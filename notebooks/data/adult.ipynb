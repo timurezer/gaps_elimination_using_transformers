{
 "cells": [
  {
   "cell_type": "code",
   "execution_count": 2,
   "outputs": [],
   "source": [
    "import numpy as np\n",
    "import pandas as pd\n",
    "\n",
    "from scipy.io import arff\n"
   ],
   "metadata": {
    "collapsed": false,
    "pycharm": {
     "name": "#%%\n"
    }
   }
  },
  {
   "cell_type": "code",
   "execution_count": 4,
   "outputs": [
    {
     "name": "stdout",
     "output_type": "stream",
     "text": [
      "[[b'2' b'State-gov' b'77516.0' ... b'2' b'United-States' b'<=50K']\n",
      " [b'3' b'Self-emp-not-inc' b'83311.0' ... b'0' b'United-States' b'<=50K']\n",
      " [b'2' b'Private' b'215646.0' ... b'2' b'United-States' b'<=50K']\n",
      " ...\n",
      " [b'2' b'Private' b'374983.0' ... b'3' b'United-States' b'<=50K']\n",
      " [b'2' b'Private' b'83891.0' ... b'2' b'United-States' b'<=50K']\n",
      " [b'1' b'Self-emp-inc' b'182148.0' ... b'3' b'United-States' b'>50K']]\n"
     ]
    }
   ],
   "source": [
    "data, meta = arff.loadarff(\"../../data/raw/adult.arff\")\n",
    "data = np.array(data.tolist())    # unless its one dim vector with np.void\n",
    "print(data)\n"
   ],
   "metadata": {
    "collapsed": false,
    "pycharm": {
     "name": "#%%\n"
    }
   }
  },
  {
   "cell_type": "code",
   "execution_count": 5,
   "outputs": [
    {
     "name": "stdout",
     "output_type": "stream",
     "text": [
      "Dataset: adult\n",
      "\tage's type is nominal, range is ('0', '1', '2', '3', '4')\n",
      "\tworkclass's type is nominal, range is ('Private', 'Self-emp-not-inc', 'Self-emp-inc', 'Federal-gov', 'Local-gov', 'State-gov', 'Without-pay', 'Never-worked')\n",
      "\tfnlwgt's type is numeric\n",
      "\teducation's type is nominal, range is ('Bachelors', 'Some-college', '11th', 'HS-grad', 'Prof-school', 'Assoc-acdm', 'Assoc-voc', '9th', '7th-8th', '12th', 'Masters', '1st-4th', '10th', 'Doctorate', '5th-6th', 'Preschool')\n",
      "\teducation-num's type is numeric\n",
      "\tmarital-status's type is nominal, range is ('Married-civ-spouse', 'Divorced', 'Never-married', 'Separated', 'Widowed', 'Married-spouse-absent', 'Married-AF-spouse')\n",
      "\toccupation's type is nominal, range is ('Tech-support', 'Craft-repair', 'Other-service', 'Sales', 'Exec-managerial', 'Prof-specialty', 'Handlers-cleaners', 'Machine-op-inspct', 'Adm-clerical', 'Farming-fishing', 'Transport-moving', 'Priv-house-serv', 'Protective-serv', 'Armed-Forces')\n",
      "\trelationship's type is nominal, range is ('Wife', 'Own-child', 'Husband', 'Not-in-family', 'Other-relative', 'Unmarried')\n",
      "\trace's type is nominal, range is ('White', 'Asian-Pac-Islander', 'Amer-Indian-Eskimo', 'Other', 'Black')\n",
      "\tsex's type is nominal, range is ('Female', 'Male')\n",
      "\tcapitalgain's type is nominal, range is ('0', '1', '2', '3', '4')\n",
      "\tcapitalloss's type is nominal, range is ('0', '1', '2', '3', '4')\n",
      "\thoursperweek's type is nominal, range is ('0', '1', '2', '3', '4')\n",
      "\tnative-country's type is nominal, range is ('United-States', 'Cambodia', 'England', 'Puerto-Rico', 'Canada', 'Germany', 'Outlying-US(Guam-USVI-etc)', 'India', 'Japan', 'Greece', 'South', 'China', 'Cuba', 'Iran', 'Honduras', 'Philippines', 'Italy', 'Poland', 'Jamaica', 'Vietnam', 'Mexico', 'Portugal', 'Ireland', 'France', 'Dominican-Republic', 'Laos', 'Ecuador', 'Taiwan', 'Haiti', 'Columbia', 'Hungary', 'Guatemala', 'Nicaragua', 'Scotland', 'Thailand', 'Yugoslavia', 'El-Salvador', 'Trinadad&Tobago', 'Peru', 'Hong', 'Holand-Netherlands')\n",
      "\tclass's type is nominal, range is ('>50K', '<=50K')\n",
      "\n"
     ]
    }
   ],
   "source": [
    "print(meta)"
   ],
   "metadata": {
    "collapsed": false,
    "pycharm": {
     "name": "#%%\n"
    }
   }
  },
  {
   "cell_type": "code",
   "execution_count": 6,
   "outputs": [
    {
     "name": "stdout",
     "output_type": "stream",
     "text": [
      "Nans number: 0\n"
     ]
    }
   ],
   "source": [
    "df = pd.DataFrame(data, dtype=str)\n",
    "print(f\"Nans number: {np.sum(df.apply(lambda x: sum(x.isnull()), axis=0))}\")\n"
   ],
   "metadata": {
    "collapsed": false,
    "pycharm": {
     "name": "#%%\n"
    }
   }
  },
  {
   "cell_type": "code",
   "execution_count": 7,
   "outputs": [
    {
     "name": "stdout",
     "output_type": "stream",
     "text": [
      "['age' 'workclass' 'fnlwgt' 'education' 'education-num' 'marital-status'\n",
      " 'occupation' 'relationship' 'race' 'sex' 'capitalgain' 'capitalloss'\n",
      " 'hoursperweek' 'native-country' 'class']\n",
      "['nominal' 'nominal' 'numeric' 'nominal' 'numeric' 'nominal' 'nominal'\n",
      " 'nominal' 'nominal' 'nominal' 'nominal' 'nominal' 'nominal' 'nominal'\n",
      " 'nominal']\n"
     ]
    }
   ],
   "source": [
    "names = np.array(meta.names())\n",
    "types = np.array(meta.types())\n",
    "print(names)\n",
    "print(types)\n"
   ],
   "metadata": {
    "collapsed": false,
    "pycharm": {
     "name": "#%%\n"
    }
   }
  },
  {
   "cell_type": "code",
   "execution_count": null,
   "outputs": [],
   "source": [],
   "metadata": {
    "collapsed": false,
    "pycharm": {
     "name": "#%%\n"
    }
   }
  }
 ],
 "metadata": {
  "kernelspec": {
   "display_name": "Python 3",
   "language": "python",
   "name": "python3"
  },
  "language_info": {
   "codemirror_mode": {
    "name": "ipython",
    "version": 2
   },
   "file_extension": ".py",
   "mimetype": "text/x-python",
   "name": "python",
   "nbconvert_exporter": "python",
   "pygments_lexer": "ipython2",
   "version": "2.7.6"
  }
 },
 "nbformat": 4,
 "nbformat_minor": 0
}