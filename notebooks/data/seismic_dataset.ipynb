{
 "cells": [
  {
   "cell_type": "code",
   "execution_count": 1,
   "metadata": {
    "collapsed": true,
    "pycharm": {
     "name": "#%%\n"
    }
   },
   "outputs": [],
   "source": [
    "import numpy as np\n",
    "import pandas as pd\n",
    "\n",
    "from scipy.io import arff\n",
    "\n"
   ]
  },
  {
   "cell_type": "code",
   "execution_count": 3,
   "outputs": [
    {
     "name": "stdout",
     "output_type": "stream",
     "text": [
      "[[b'a' b'a' b'N' ... b'0.0' b'0.0' b'0']\n",
      " [b'a' b'a' b'N' ... b'2000.0' b'2000.0' b'0']\n",
      " [b'a' b'a' b'N' ... b'0.0' b'0.0' b'0']\n",
      " ...\n",
      " [b'b' b'a' b'W' ... b'0.0' b'0.0' b'0']\n",
      " [b'a' b'a' b'W' ... b'0.0' b'0.0' b'0']\n",
      " [b'a' b'a' b'W' ... b'0.0' b'0.0' b'0']]\n",
      "Dataset: seismic-bumps\n",
      "\tseismic's type is nominal, range is ('a', 'b', 'c', 'd')\n",
      "\tseismoacoustic's type is nominal, range is ('a', 'b', 'c', 'd')\n",
      "\tshift's type is nominal, range is ('W', 'N')\n",
      "\tgenergy's type is numeric\n",
      "\tgpuls's type is numeric\n",
      "\tgdenergy's type is numeric\n",
      "\tgdpuls's type is numeric\n",
      "\tghazard's type is nominal, range is ('a', 'b', 'c', 'd')\n",
      "\tnbumps's type is numeric\n",
      "\tnbumps2's type is numeric\n",
      "\tnbumps3's type is numeric\n",
      "\tnbumps4's type is numeric\n",
      "\tnbumps5's type is numeric\n",
      "\tnbumps6's type is numeric\n",
      "\tnbumps7's type is numeric\n",
      "\tnbumps89's type is numeric\n",
      "\tenergy's type is numeric\n",
      "\tmaxenergy's type is numeric\n",
      "\tclass's type is nominal, range is ('1', '0')\n",
      "\n"
     ]
    }
   ],
   "source": [
    "data, meta = arff.loadarff(\"../../data/raw/seismic-bumps.arff\")\n",
    "data = np.array(data.tolist())    # unless its one dim vector with np.void\n",
    "print(data)\n",
    "print(meta)"
   ],
   "metadata": {
    "collapsed": false,
    "pycharm": {
     "name": "#%%\n"
    }
   }
  },
  {
   "cell_type": "code",
   "execution_count": 4,
   "outputs": [
    {
     "name": "stdout",
     "output_type": "stream",
     "text": [
      "Nans number: 0\n"
     ]
    }
   ],
   "source": [
    "df = pd.DataFrame(data, dtype=str)\n",
    "print(f\"Nans number: {np.sum(df.apply(lambda x: sum(x.isnull()), axis=0))}\")"
   ],
   "metadata": {
    "collapsed": false,
    "pycharm": {
     "name": "#%%\n"
    }
   }
  },
  {
   "cell_type": "code",
   "execution_count": 5,
   "outputs": [
    {
     "name": "stdout",
     "output_type": "stream",
     "text": [
      "['seismic' 'seismoacoustic' 'shift' 'genergy' 'gpuls' 'gdenergy' 'gdpuls'\n",
      " 'ghazard' 'nbumps' 'nbumps2' 'nbumps3' 'nbumps4' 'nbumps5' 'nbumps6'\n",
      " 'nbumps7' 'nbumps89' 'energy' 'maxenergy' 'class']\n",
      "['nominal' 'nominal' 'nominal' 'numeric' 'numeric' 'numeric' 'numeric'\n",
      " 'nominal' 'numeric' 'numeric' 'numeric' 'numeric' 'numeric' 'numeric'\n",
      " 'numeric' 'numeric' 'numeric' 'numeric' 'nominal']\n"
     ]
    }
   ],
   "source": [
    "names = np.array(meta.names())\n",
    "types = np.array(meta.types())\n",
    "print(names)\n",
    "print(types)\n"
   ],
   "metadata": {
    "collapsed": false,
    "pycharm": {
     "name": "#%%\n"
    }
   }
  },
  {
   "cell_type": "code",
   "execution_count": 6,
   "outputs": [],
   "source": [
    "categ_features = (types == 'nominal') & (names != 'class')\n",
    "cont_features = (types == 'numeric')\n",
    "x_categ = data[:, categ_features].astype('<U14')\n",
    "x_cont = data[:, cont_features].astype(np.float64)\n",
    "\n",
    "labels = data[:, -1].astype('<U14')\n",
    "d = {'0' : 0, '1' : 1}\n",
    "labels = np.array([d[x] for x in labels])\n"
   ],
   "metadata": {
    "collapsed": false,
    "pycharm": {
     "name": "#%%\n"
    }
   }
  },
  {
   "cell_type": "code",
   "execution_count": 17,
   "outputs": [
    {
     "data": {
      "text/plain": "        0     1     2           3         4         5         6     7   \\\n0     b'a'  b'a'  b'N'  b'15180.0'   b'48.0'  b'-72.0'  b'-72.0'  b'a'   \n1     b'a'  b'a'  b'N'  b'14720.0'   b'33.0'  b'-70.0'  b'-79.0'  b'a'   \n2     b'a'  b'a'  b'N'   b'8050.0'   b'30.0'  b'-81.0'  b'-78.0'  b'a'   \n3     b'a'  b'a'  b'N'  b'28820.0'  b'171.0'  b'-23.0'   b'40.0'  b'a'   \n4     b'a'  b'a'  b'N'  b'12640.0'   b'57.0'  b'-63.0'  b'-52.0'  b'a'   \n...    ...   ...   ...         ...       ...       ...       ...   ...   \n2579  b'b'  b'a'  b'W'  b'81410.0'  b'785.0'  b'432.0'  b'151.0'  b'b'   \n2580  b'b'  b'a'  b'W'  b'42110.0'  b'555.0'  b'213.0'  b'118.0'  b'a'   \n2581  b'b'  b'a'  b'W'  b'26960.0'  b'540.0'  b'101.0'  b'112.0'  b'a'   \n2582  b'a'  b'a'  b'W'  b'16130.0'  b'322.0'    b'2.0'    b'2.0'  b'a'   \n2583  b'a'  b'a'  b'W'  b'12750.0'  b'235.0'  b'-10.0'  b'-10.0'  b'a'   \n\n          8       9       10      11      12      13      14      15  \\\n0     b'0.0'  b'0.0'  b'0.0'  b'0.0'  b'0.0'  b'0.0'  b'0.0'  b'0.0'   \n1     b'1.0'  b'0.0'  b'1.0'  b'0.0'  b'0.0'  b'0.0'  b'0.0'  b'0.0'   \n2     b'0.0'  b'0.0'  b'0.0'  b'0.0'  b'0.0'  b'0.0'  b'0.0'  b'0.0'   \n3     b'1.0'  b'0.0'  b'1.0'  b'0.0'  b'0.0'  b'0.0'  b'0.0'  b'0.0'   \n4     b'0.0'  b'0.0'  b'0.0'  b'0.0'  b'0.0'  b'0.0'  b'0.0'  b'0.0'   \n...      ...     ...     ...     ...     ...     ...     ...     ...   \n2579  b'0.0'  b'0.0'  b'0.0'  b'0.0'  b'0.0'  b'0.0'  b'0.0'  b'0.0'   \n2580  b'0.0'  b'0.0'  b'0.0'  b'0.0'  b'0.0'  b'0.0'  b'0.0'  b'0.0'   \n2581  b'0.0'  b'0.0'  b'0.0'  b'0.0'  b'0.0'  b'0.0'  b'0.0'  b'0.0'   \n2582  b'0.0'  b'0.0'  b'0.0'  b'0.0'  b'0.0'  b'0.0'  b'0.0'  b'0.0'   \n2583  b'0.0'  b'0.0'  b'0.0'  b'0.0'  b'0.0'  b'0.0'  b'0.0'  b'0.0'   \n\n             16         17    18  \n0        b'0.0'     b'0.0'  b'0'  \n1     b'2000.0'  b'2000.0'  b'0'  \n2        b'0.0'     b'0.0'  b'0'  \n3     b'3000.0'  b'3000.0'  b'0'  \n4        b'0.0'     b'0.0'  b'0'  \n...         ...        ...   ...  \n2579     b'0.0'     b'0.0'  b'0'  \n2580     b'0.0'     b'0.0'  b'0'  \n2581     b'0.0'     b'0.0'  b'0'  \n2582     b'0.0'     b'0.0'  b'0'  \n2583     b'0.0'     b'0.0'  b'0'  \n\n[2584 rows x 19 columns]",
      "text/html": "<div>\n<style scoped>\n    .dataframe tbody tr th:only-of-type {\n        vertical-align: middle;\n    }\n\n    .dataframe tbody tr th {\n        vertical-align: top;\n    }\n\n    .dataframe thead th {\n        text-align: right;\n    }\n</style>\n<table border=\"1\" class=\"dataframe\">\n  <thead>\n    <tr style=\"text-align: right;\">\n      <th></th>\n      <th>0</th>\n      <th>1</th>\n      <th>2</th>\n      <th>3</th>\n      <th>4</th>\n      <th>5</th>\n      <th>6</th>\n      <th>7</th>\n      <th>8</th>\n      <th>9</th>\n      <th>10</th>\n      <th>11</th>\n      <th>12</th>\n      <th>13</th>\n      <th>14</th>\n      <th>15</th>\n      <th>16</th>\n      <th>17</th>\n      <th>18</th>\n    </tr>\n  </thead>\n  <tbody>\n    <tr>\n      <th>0</th>\n      <td>b'a'</td>\n      <td>b'a'</td>\n      <td>b'N'</td>\n      <td>b'15180.0'</td>\n      <td>b'48.0'</td>\n      <td>b'-72.0'</td>\n      <td>b'-72.0'</td>\n      <td>b'a'</td>\n      <td>b'0.0'</td>\n      <td>b'0.0'</td>\n      <td>b'0.0'</td>\n      <td>b'0.0'</td>\n      <td>b'0.0'</td>\n      <td>b'0.0'</td>\n      <td>b'0.0'</td>\n      <td>b'0.0'</td>\n      <td>b'0.0'</td>\n      <td>b'0.0'</td>\n      <td>b'0'</td>\n    </tr>\n    <tr>\n      <th>1</th>\n      <td>b'a'</td>\n      <td>b'a'</td>\n      <td>b'N'</td>\n      <td>b'14720.0'</td>\n      <td>b'33.0'</td>\n      <td>b'-70.0'</td>\n      <td>b'-79.0'</td>\n      <td>b'a'</td>\n      <td>b'1.0'</td>\n      <td>b'0.0'</td>\n      <td>b'1.0'</td>\n      <td>b'0.0'</td>\n      <td>b'0.0'</td>\n      <td>b'0.0'</td>\n      <td>b'0.0'</td>\n      <td>b'0.0'</td>\n      <td>b'2000.0'</td>\n      <td>b'2000.0'</td>\n      <td>b'0'</td>\n    </tr>\n    <tr>\n      <th>2</th>\n      <td>b'a'</td>\n      <td>b'a'</td>\n      <td>b'N'</td>\n      <td>b'8050.0'</td>\n      <td>b'30.0'</td>\n      <td>b'-81.0'</td>\n      <td>b'-78.0'</td>\n      <td>b'a'</td>\n      <td>b'0.0'</td>\n      <td>b'0.0'</td>\n      <td>b'0.0'</td>\n      <td>b'0.0'</td>\n      <td>b'0.0'</td>\n      <td>b'0.0'</td>\n      <td>b'0.0'</td>\n      <td>b'0.0'</td>\n      <td>b'0.0'</td>\n      <td>b'0.0'</td>\n      <td>b'0'</td>\n    </tr>\n    <tr>\n      <th>3</th>\n      <td>b'a'</td>\n      <td>b'a'</td>\n      <td>b'N'</td>\n      <td>b'28820.0'</td>\n      <td>b'171.0'</td>\n      <td>b'-23.0'</td>\n      <td>b'40.0'</td>\n      <td>b'a'</td>\n      <td>b'1.0'</td>\n      <td>b'0.0'</td>\n      <td>b'1.0'</td>\n      <td>b'0.0'</td>\n      <td>b'0.0'</td>\n      <td>b'0.0'</td>\n      <td>b'0.0'</td>\n      <td>b'0.0'</td>\n      <td>b'3000.0'</td>\n      <td>b'3000.0'</td>\n      <td>b'0'</td>\n    </tr>\n    <tr>\n      <th>4</th>\n      <td>b'a'</td>\n      <td>b'a'</td>\n      <td>b'N'</td>\n      <td>b'12640.0'</td>\n      <td>b'57.0'</td>\n      <td>b'-63.0'</td>\n      <td>b'-52.0'</td>\n      <td>b'a'</td>\n      <td>b'0.0'</td>\n      <td>b'0.0'</td>\n      <td>b'0.0'</td>\n      <td>b'0.0'</td>\n      <td>b'0.0'</td>\n      <td>b'0.0'</td>\n      <td>b'0.0'</td>\n      <td>b'0.0'</td>\n      <td>b'0.0'</td>\n      <td>b'0.0'</td>\n      <td>b'0'</td>\n    </tr>\n    <tr>\n      <th>...</th>\n      <td>...</td>\n      <td>...</td>\n      <td>...</td>\n      <td>...</td>\n      <td>...</td>\n      <td>...</td>\n      <td>...</td>\n      <td>...</td>\n      <td>...</td>\n      <td>...</td>\n      <td>...</td>\n      <td>...</td>\n      <td>...</td>\n      <td>...</td>\n      <td>...</td>\n      <td>...</td>\n      <td>...</td>\n      <td>...</td>\n      <td>...</td>\n    </tr>\n    <tr>\n      <th>2579</th>\n      <td>b'b'</td>\n      <td>b'a'</td>\n      <td>b'W'</td>\n      <td>b'81410.0'</td>\n      <td>b'785.0'</td>\n      <td>b'432.0'</td>\n      <td>b'151.0'</td>\n      <td>b'b'</td>\n      <td>b'0.0'</td>\n      <td>b'0.0'</td>\n      <td>b'0.0'</td>\n      <td>b'0.0'</td>\n      <td>b'0.0'</td>\n      <td>b'0.0'</td>\n      <td>b'0.0'</td>\n      <td>b'0.0'</td>\n      <td>b'0.0'</td>\n      <td>b'0.0'</td>\n      <td>b'0'</td>\n    </tr>\n    <tr>\n      <th>2580</th>\n      <td>b'b'</td>\n      <td>b'a'</td>\n      <td>b'W'</td>\n      <td>b'42110.0'</td>\n      <td>b'555.0'</td>\n      <td>b'213.0'</td>\n      <td>b'118.0'</td>\n      <td>b'a'</td>\n      <td>b'0.0'</td>\n      <td>b'0.0'</td>\n      <td>b'0.0'</td>\n      <td>b'0.0'</td>\n      <td>b'0.0'</td>\n      <td>b'0.0'</td>\n      <td>b'0.0'</td>\n      <td>b'0.0'</td>\n      <td>b'0.0'</td>\n      <td>b'0.0'</td>\n      <td>b'0'</td>\n    </tr>\n    <tr>\n      <th>2581</th>\n      <td>b'b'</td>\n      <td>b'a'</td>\n      <td>b'W'</td>\n      <td>b'26960.0'</td>\n      <td>b'540.0'</td>\n      <td>b'101.0'</td>\n      <td>b'112.0'</td>\n      <td>b'a'</td>\n      <td>b'0.0'</td>\n      <td>b'0.0'</td>\n      <td>b'0.0'</td>\n      <td>b'0.0'</td>\n      <td>b'0.0'</td>\n      <td>b'0.0'</td>\n      <td>b'0.0'</td>\n      <td>b'0.0'</td>\n      <td>b'0.0'</td>\n      <td>b'0.0'</td>\n      <td>b'0'</td>\n    </tr>\n    <tr>\n      <th>2582</th>\n      <td>b'a'</td>\n      <td>b'a'</td>\n      <td>b'W'</td>\n      <td>b'16130.0'</td>\n      <td>b'322.0'</td>\n      <td>b'2.0'</td>\n      <td>b'2.0'</td>\n      <td>b'a'</td>\n      <td>b'0.0'</td>\n      <td>b'0.0'</td>\n      <td>b'0.0'</td>\n      <td>b'0.0'</td>\n      <td>b'0.0'</td>\n      <td>b'0.0'</td>\n      <td>b'0.0'</td>\n      <td>b'0.0'</td>\n      <td>b'0.0'</td>\n      <td>b'0.0'</td>\n      <td>b'0'</td>\n    </tr>\n    <tr>\n      <th>2583</th>\n      <td>b'a'</td>\n      <td>b'a'</td>\n      <td>b'W'</td>\n      <td>b'12750.0'</td>\n      <td>b'235.0'</td>\n      <td>b'-10.0'</td>\n      <td>b'-10.0'</td>\n      <td>b'a'</td>\n      <td>b'0.0'</td>\n      <td>b'0.0'</td>\n      <td>b'0.0'</td>\n      <td>b'0.0'</td>\n      <td>b'0.0'</td>\n      <td>b'0.0'</td>\n      <td>b'0.0'</td>\n      <td>b'0.0'</td>\n      <td>b'0.0'</td>\n      <td>b'0.0'</td>\n      <td>b'0'</td>\n    </tr>\n  </tbody>\n</table>\n<p>2584 rows × 19 columns</p>\n</div>"
     },
     "execution_count": 17,
     "metadata": {},
     "output_type": "execute_result"
    }
   ],
   "source": [
    "df"
   ],
   "metadata": {
    "collapsed": false,
    "pycharm": {
     "name": "#%%\n"
    }
   }
  },
  {
   "cell_type": "markdown",
   "source": [
    "labels:"
   ],
   "metadata": {
    "collapsed": false,
    "pycharm": {
     "name": "#%% md\n"
    }
   }
  },
  {
   "cell_type": "code",
   "execution_count": 13,
   "outputs": [
    {
     "name": "stdout",
     "output_type": "stream",
     "text": [
      "class\n",
      "[0 0 0 ... 0 0 0]\n"
     ]
    }
   ],
   "source": [
    "print(names[-1])\n",
    "print(labels)"
   ],
   "metadata": {
    "collapsed": false,
    "pycharm": {
     "name": "#%%\n"
    }
   }
  },
  {
   "cell_type": "markdown",
   "source": [
    "categorical features:"
   ],
   "metadata": {
    "collapsed": false,
    "pycharm": {
     "name": "#%% md\n"
    }
   }
  },
  {
   "cell_type": "code",
   "execution_count": 10,
   "outputs": [
    {
     "name": "stdout",
     "output_type": "stream",
     "text": [
      "['seismic' 'seismoacoustic' 'shift' 'ghazard']\n",
      "[['a' 'a' 'N' 'a']\n",
      " ['a' 'a' 'N' 'a']\n",
      " ['a' 'a' 'N' 'a']\n",
      " ...\n",
      " ['b' 'a' 'W' 'a']\n",
      " ['a' 'a' 'W' 'a']\n",
      " ['a' 'a' 'W' 'a']]\n"
     ]
    }
   ],
   "source": [
    "print(names[categ_features])\n",
    "print(x_categ)\n"
   ],
   "metadata": {
    "collapsed": false,
    "pycharm": {
     "name": "#%%\n"
    }
   }
  },
  {
   "cell_type": "code",
   "execution_count": 18,
   "outputs": [
    {
     "name": "stdout",
     "output_type": "stream",
     "text": [
      "[array(['a', 'b'], dtype='<U14'), array(['a', 'b', 'c'], dtype='<U14'), array(['N', 'W'], dtype='<U14'), array(['a', 'b', 'c'], dtype='<U14')]\n",
      "(2, 3, 2, 3)\n"
     ]
    }
   ],
   "source": [
    "unique_labels = [np.unique(x_categ[:, i]) for i in range(x_categ.shape[-1])]\n",
    "print(unique_labels)\n",
    "categories = tuple(len(x) for x in unique_labels)\n",
    "print(categories)"
   ],
   "metadata": {
    "collapsed": false,
    "pycharm": {
     "name": "#%%\n"
    }
   }
  },
  {
   "cell_type": "code",
   "execution_count": 19,
   "outputs": [],
   "source": [
    "def encode_category(data):\n",
    "    data_ = np.zeros(data.shape)\n",
    "    uniques = []\n",
    "    for i in range(data.shape[-1]):\n",
    "        unique_labels = np.unique(data[:, i])\n",
    "        uniques.append(len(unique_labels))\n",
    "        d = dict((x, i) for i, x in enumerate(unique_labels))\n",
    "        data_[:, i] = np.array([d[x] for x in data[:, i]])\n",
    "    return data_.astype(int), tuple(uniques)\n"
   ],
   "metadata": {
    "collapsed": false,
    "pycharm": {
     "name": "#%%\n"
    }
   }
  },
  {
   "cell_type": "code",
   "execution_count": 20,
   "outputs": [
    {
     "name": "stdout",
     "output_type": "stream",
     "text": [
      "[[0 0 0 0]\n",
      " [0 0 0 0]\n",
      " [0 0 0 0]\n",
      " ...\n",
      " [1 0 1 0]\n",
      " [0 0 1 0]\n",
      " [0 0 1 0]]\n"
     ]
    }
   ],
   "source": [
    "x_categ_, categories = encode_category(x_categ)\n",
    "print(x_categ_)"
   ],
   "metadata": {
    "collapsed": false,
    "pycharm": {
     "name": "#%%\n"
    }
   }
  },
  {
   "cell_type": "code",
   "execution_count": 25,
   "outputs": [
    {
     "name": "stdout",
     "output_type": "stream",
     "text": [
      "(2, 3, 2, 3)\n"
     ]
    }
   ],
   "source": [
    "print(categories)"
   ],
   "metadata": {
    "collapsed": false,
    "pycharm": {
     "name": "#%%\n"
    }
   }
  },
  {
   "cell_type": "markdown",
   "source": [
    "continuous features:"
   ],
   "metadata": {
    "collapsed": false,
    "pycharm": {
     "name": "#%% md\n"
    }
   }
  },
  {
   "cell_type": "code",
   "execution_count": 11,
   "outputs": [
    {
     "name": "stdout",
     "output_type": "stream",
     "text": [
      "['genergy' 'gpuls' 'gdenergy' 'gdpuls' 'nbumps' 'nbumps2' 'nbumps3'\n",
      " 'nbumps4' 'nbumps5' 'nbumps6' 'nbumps7' 'nbumps89' 'energy' 'maxenergy']\n",
      "[[ 1.518e+04  4.800e+01 -7.200e+01 ...  0.000e+00  0.000e+00  0.000e+00]\n",
      " [ 1.472e+04  3.300e+01 -7.000e+01 ...  0.000e+00  2.000e+03  2.000e+03]\n",
      " [ 8.050e+03  3.000e+01 -8.100e+01 ...  0.000e+00  0.000e+00  0.000e+00]\n",
      " ...\n",
      " [ 2.696e+04  5.400e+02  1.010e+02 ...  0.000e+00  0.000e+00  0.000e+00]\n",
      " [ 1.613e+04  3.220e+02  2.000e+00 ...  0.000e+00  0.000e+00  0.000e+00]\n",
      " [ 1.275e+04  2.350e+02 -1.000e+01 ...  0.000e+00  0.000e+00  0.000e+00]]\n"
     ]
    }
   ],
   "source": [
    "print(names[cont_features])\n",
    "print(x_cont)\n"
   ],
   "metadata": {
    "collapsed": false,
    "pycharm": {
     "name": "#%%\n"
    }
   }
  },
  {
   "cell_type": "code",
   "execution_count": 23,
   "outputs": [
    {
     "data": {
      "text/plain": "array([[ 1.518e+04,  4.800e+01, -7.200e+01, ...,  0.000e+00,  0.000e+00,\n         0.000e+00],\n       [ 1.472e+04,  3.300e+01, -7.000e+01, ...,  0.000e+00,  2.000e+03,\n         2.000e+03],\n       [ 8.050e+03,  3.000e+01, -8.100e+01, ...,  0.000e+00,  0.000e+00,\n         0.000e+00],\n       ...,\n       [ 2.696e+04,  5.400e+02,  1.010e+02, ...,  0.000e+00,  0.000e+00,\n         0.000e+00],\n       [ 1.613e+04,  3.220e+02,  2.000e+00, ...,  0.000e+00,  0.000e+00,\n         0.000e+00],\n       [ 1.275e+04,  2.350e+02, -1.000e+01, ...,  0.000e+00,  0.000e+00,\n         0.000e+00]])"
     },
     "execution_count": 23,
     "metadata": {},
     "output_type": "execute_result"
    }
   ],
   "source": [
    "x_cont_ = x_cont[:, np.std(x_cont, axis=0) != 0]\n",
    "x_cont"
   ],
   "metadata": {
    "collapsed": false,
    "pycharm": {
     "name": "#%%\n"
    }
   }
  },
  {
   "cell_type": "code",
   "execution_count": null,
   "outputs": [],
   "source": [
    "\n"
   ],
   "metadata": {
    "collapsed": false,
    "pycharm": {
     "name": "#%%\n"
    }
   }
  }
 ],
 "metadata": {
  "kernelspec": {
   "display_name": "Python 3",
   "language": "python",
   "name": "python3"
  },
  "language_info": {
   "codemirror_mode": {
    "name": "ipython",
    "version": 2
   },
   "file_extension": ".py",
   "mimetype": "text/x-python",
   "name": "python",
   "nbconvert_exporter": "python",
   "pygments_lexer": "ipython2",
   "version": "2.7.6"
  }
 },
 "nbformat": 4,
 "nbformat_minor": 0
}