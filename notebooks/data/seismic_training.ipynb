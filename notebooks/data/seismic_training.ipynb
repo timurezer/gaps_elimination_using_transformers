{
 "nbformat": 4,
 "nbformat_minor": 0,
 "metadata": {
  "colab": {
   "name": "seismic_training.ipynb",
   "provenance": []
  },
  "kernelspec": {
   "name": "python3",
   "display_name": "Python 3"
  },
  "language_info": {
   "name": "python"
  }
 },
 "cells": [
  {
   "cell_type": "code",
   "source": [
    "!pip install einops"
   ],
   "metadata": {
    "colab": {
     "base_uri": "https://localhost:8080/"
    },
    "id": "kLiDhHTdtTtk",
    "outputId": "1b2d3a91-08b7-4515-ea80-f8f00f6e7e64",
    "pycharm": {
     "name": "#%%\n"
    }
   },
   "execution_count": 1,
   "outputs": [
    {
     "output_type": "stream",
     "name": "stdout",
     "text": [
      "Looking in indexes: https://pypi.org/simple, https://us-python.pkg.dev/colab-wheels/public/simple/\n",
      "Collecting einops\n",
      "  Downloading einops-0.4.1-py3-none-any.whl (28 kB)\n",
      "Installing collected packages: einops\n",
      "Successfully installed einops-0.4.1\n"
     ]
    }
   ]
  },
  {
   "cell_type": "code",
   "source": [
    "import pandas as pd\n",
    "import torch\n",
    "import torch.nn.functional as F\n",
    "from torch import nn, einsum\n",
    "\n",
    "from einops import rearrange"
   ],
   "metadata": {
    "id": "_5Df0EqytPUH",
    "pycharm": {
     "name": "#%%\n"
    }
   },
   "execution_count": 2,
   "outputs": []
  },
  {
   "cell_type": "code",
   "execution_count": 3,
   "metadata": {
    "id": "-ngl7qSptKEN",
    "pycharm": {
     "name": "#%%\n"
    }
   },
   "outputs": [],
   "source": [
    "# helpers\n",
    "\n",
    "def exists(val):\n",
    "    return val is not None\n",
    "\n",
    "def default(val, d):\n",
    "    return val if exists(val) else d\n",
    "\n",
    "# classes\n",
    "\n",
    "class Residual(nn.Module):\n",
    "    def __init__(self, fn):\n",
    "        super().__init__()\n",
    "        self.fn = fn\n",
    "\n",
    "    def forward(self, x, **kwargs):\n",
    "        return self.fn(x, **kwargs) + x\n",
    "\n",
    "class PreNorm(nn.Module):\n",
    "    def __init__(self, dim, fn):\n",
    "        super().__init__()\n",
    "        self.norm = nn.LayerNorm(dim)\n",
    "        self.fn = fn\n",
    "\n",
    "    def forward(self, x, **kwargs):\n",
    "        return self.fn(self.norm(x), **kwargs)\n",
    "\n",
    "# attention\n",
    "\n",
    "class GEGLU(nn.Module):\n",
    "    def forward(self, x):\n",
    "        x, gates = x.chunk(2, dim = -1)\n",
    "        return x * F.gelu(gates)\n",
    "\n",
    "class FeedForward(nn.Module):\n",
    "    def __init__(self, dim, mult = 4, dropout = 0.):\n",
    "        super().__init__()\n",
    "        self.net = nn.Sequential(\n",
    "            nn.Linear(dim, dim * mult * 2),\n",
    "            GEGLU(),\n",
    "            nn.Dropout(dropout),\n",
    "            nn.Linear(dim * mult, dim)\n",
    "        )\n",
    "\n",
    "    def forward(self, x, **kwargs):\n",
    "        return self.net(x)\n",
    "\n",
    "class Attention(nn.Module):\n",
    "    def __init__(\n",
    "        self,\n",
    "        dim,\n",
    "        heads = 8,\n",
    "        dim_head = 16,\n",
    "        dropout = 0.\n",
    "    ):\n",
    "        super().__init__()\n",
    "        inner_dim = dim_head * heads\n",
    "        self.heads = heads\n",
    "        self.scale = dim_head ** -0.5\n",
    "\n",
    "        self.to_qkv = nn.Linear(dim, inner_dim * 3, bias = False)\n",
    "        self.to_out = nn.Linear(inner_dim, dim)\n",
    "\n",
    "        self.dropout = nn.Dropout(dropout)\n",
    "\n",
    "    def forward(self, x):\n",
    "        h = self.heads\n",
    "        q, k, v = self.to_qkv(x).chunk(3, dim = -1)\n",
    "        q, k, v = map(lambda t: rearrange(t, 'b n (h d) -> b h n d', h = h), (q, k, v))\n",
    "        sim = einsum('b h i d, b h j d -> b h i j', q, k) * self.scale\n",
    "\n",
    "        attn = sim.softmax(dim = -1)\n",
    "        attn = self.dropout(attn)\n",
    "\n",
    "        out = einsum('b h i j, b h j d -> b h i d', attn, v)\n",
    "        out = rearrange(out, 'b h n d -> b n (h d)', h = h)\n",
    "        return self.to_out(out)\n",
    "\n",
    "# transformer\n",
    "\n",
    "class Transformer(nn.Module):\n",
    "    def __init__(self, num_tokens, dim, depth, heads, dim_head, attn_dropout, ff_dropout):\n",
    "        super().__init__()\n",
    "        self.embeds = nn.Embedding(num_tokens, dim)\n",
    "        self.layers = nn.ModuleList([])\n",
    "\n",
    "        for _ in range(depth):\n",
    "            self.layers.append(nn.ModuleList([\n",
    "                Residual(PreNorm(dim, Attention(dim, heads = heads, dim_head = dim_head, dropout = attn_dropout))),\n",
    "                Residual(PreNorm(dim, FeedForward(dim, dropout = ff_dropout))),\n",
    "            ]))\n",
    "\n",
    "    def forward(self, x):\n",
    "        x = self.embeds(x)\n",
    "\n",
    "        for attn, ff in self.layers:\n",
    "            x = attn(x)\n",
    "            x = ff(x)\n",
    "\n",
    "        return x\n",
    "# mlp\n",
    "\n",
    "class MLP(nn.Module):\n",
    "    def __init__(self, dims, act = None):\n",
    "        super().__init__()\n",
    "        dims_pairs = list(zip(dims[:-1], dims[1:]))\n",
    "        layers = []\n",
    "        for ind, (dim_in, dim_out) in enumerate(dims_pairs):\n",
    "            is_last = ind >= (len(dims_pairs) - 1)\n",
    "            linear = nn.Linear(dim_in, dim_out)\n",
    "            layers.append(linear)\n",
    "\n",
    "            # removed last layer to get logits\n",
    "            # if is_last:\n",
    "            #     continue\n",
    "\n",
    "            # act = default(act, nn.ReLU())\n",
    "            # layers.append(act)\n",
    "\n",
    "        self.mlp = nn.Sequential(*layers)\n",
    "\n",
    "    def forward(self, x):\n",
    "        return self.mlp(x)\n",
    "\n",
    "# main class\n",
    "\n",
    "class TabTransformer(nn.Module):\n",
    "    def __init__(\n",
    "        self,\n",
    "        *,\n",
    "        categories,\n",
    "        num_continuous,\n",
    "        dim,\n",
    "        depth,\n",
    "        heads,\n",
    "        dim_head = 16,\n",
    "        dim_out = 1,\n",
    "        mlp_hidden_mults = (4, 2),\n",
    "        mlp_act = None,\n",
    "        num_special_tokens = 2,\n",
    "        continuous_mean_std = None,\n",
    "        attn_dropout = 0.,\n",
    "        ff_dropout = 0.\n",
    "    ):\n",
    "        super().__init__()\n",
    "        assert all(map(lambda n: n > 0, categories)), 'number of each category must be positive'\n",
    "\n",
    "        # categories related calculations\n",
    "\n",
    "        self.num_categories = len(categories)    # len of input sequences\n",
    "        self.num_unique_categories = sum(categories)    # number of all categories\n",
    "\n",
    "        # create category embeddings table\n",
    "\n",
    "        self.num_special_tokens = num_special_tokens    # for missing?\n",
    "        total_tokens = self.num_unique_categories + num_special_tokens\n",
    "\n",
    "        # for automatically offsetting unique category ids to the correct position in the categories embedding table\n",
    "\n",
    "        categories_offset = F.pad(torch.tensor(list(categories)), (1, 0), value = num_special_tokens)    # ??\n",
    "        categories_offset = categories_offset.cumsum(dim = -1)[:-1]    # cumulative sum\n",
    "        self.register_buffer('categories_offset', categories_offset)    # save it and use in forward\n",
    "\n",
    "        # continuous\n",
    "\n",
    "        if exists(continuous_mean_std):\n",
    "            assert continuous_mean_std.shape == (num_continuous, 2), f'continuous_mean_std must have a shape of ({num_continuous}, 2) where the last dimension contains the mean and variance respectively'\n",
    "        self.register_buffer('continuous_mean_std', continuous_mean_std)\n",
    "\n",
    "        self.norm = nn.LayerNorm(num_continuous)\n",
    "        self.num_continuous = num_continuous\n",
    "\n",
    "        # transformer\n",
    "\n",
    "        self.transformer = Transformer(\n",
    "            num_tokens = total_tokens,\n",
    "            dim = dim,\n",
    "            depth = depth,\n",
    "            heads = heads,\n",
    "            dim_head = dim_head,\n",
    "            attn_dropout = attn_dropout,\n",
    "            ff_dropout = ff_dropout\n",
    "        )\n",
    "\n",
    "        # mlp to logits\n",
    "\n",
    "        input_size = (dim * self.num_categories) + num_continuous\n",
    "        l = input_size // 8\n",
    "\n",
    "        hidden_dimensions = list(map(lambda t: l * t, mlp_hidden_mults))\n",
    "        all_dimensions = [input_size, *hidden_dimensions, dim_out]\n",
    "\n",
    "        self.mlp = MLP(all_dimensions, act = mlp_act)\n",
    "\n",
    "    def forward(self, x_categ, x_cont):\n",
    "        assert x_categ.shape[-1] == self.num_categories, f'you must pass in {self.num_categories} values for your categories input'\n",
    "        x_categ += self.categories_offset\n",
    "\n",
    "        x = self.transformer(x_categ)\n",
    "\n",
    "        flat_categ = x.flatten(1)    # ?\n",
    "\n",
    "        assert x_cont.shape[1] == self.num_continuous, f'you must pass in {self.num_continuous} values for your continuous input'\n",
    "\n",
    "        if exists(self.continuous_mean_std):\n",
    "            mean, std = self.continuous_mean_std.unbind(dim = -1)    # splits tensor into 2 parts\n",
    "            x_cont = (x_cont - mean) / std\n",
    "\n",
    "        normed_cont = self.norm(x_cont)    # norm over all batch\n",
    "\n",
    "        x = torch.cat((flat_categ, normed_cont), dim = -1)\n",
    "        return self.mlp(x)\n",
    "\n"
   ]
  },
  {
   "cell_type": "markdown",
   "source": [
    "# additional funcs"
   ],
   "metadata": {
    "id": "lI6VJ6wBM0aK",
    "pycharm": {
     "name": "#%% md\n"
    }
   }
  },
  {
   "cell_type": "code",
   "source": [
    "import os\n",
    "import numpy as np\n",
    "from torch.utils.data import Dataset, DataLoader\n",
    "from torch.optim import Adam\n",
    "import matplotlib.pyplot as plt"
   ],
   "metadata": {
    "id": "EaKr78aUvZoc",
    "pycharm": {
     "name": "#%%\n"
    }
   },
   "execution_count": 4,
   "outputs": []
  },
  {
   "cell_type": "code",
   "source": [
    "class my_dataset(Dataset):\n",
    "    def __init__(self, X1, X2, y):\n",
    "        self.X1 = X1\n",
    "        self.X2 = X2\n",
    "        self.y = y\n",
    "\n",
    "    def __len__(self):\n",
    "        return self.y.shape[0]\n",
    "\n",
    "    def __getitem__(self, idx):\n",
    "        return self.X1[idx], self.X2[idx], self.y[idx]\n",
    "\n",
    "def my_train_test_split(X1, X2, y, test_size=0.2, val_size=0.05, random_state=None):\n",
    "    # X1 - categorical, X2 - continious, y - labels\n",
    "    assert X1.shape[0] == X2.shape[0] == y.shape[0]\n",
    "    n1 = int(np.around(test_size * y.shape[0]))\n",
    "    n2 = int(np.around((val_size + test_size) * y.shape[0]))\n",
    "    if random_state is not None:\n",
    "        np.random.seed(seed)\n",
    "\n",
    "    idx = np.random.permutation(y.shape[0])\n",
    "\n",
    "    X1_test = X1[idx][:n1]\n",
    "    X2_test = X2[idx][:n1]\n",
    "    y_test = y[idx][:n1]\n",
    "\n",
    "    X1_val = X1[idx][n1:n2]\n",
    "    X2_val = X2[idx][n1:n2]\n",
    "    y_val = y[idx][n1:n2]\n",
    "\n",
    "    X1_train = X1[idx][n2:]\n",
    "    X2_train = X2[idx][n2:]\n",
    "    y_train = y[idx][n2:]\n",
    "\n",
    "    return X1_train, X2_train, y_train, X1_val, X2_val, y_val, X1_test, X2_test, y_test\n",
    "\n",
    "seed = 42\n",
    "\n",
    "\n",
    "def single_pass(model, dataloader, loss, device, optim=None):\n",
    "    loss_count, acc_count = 0, 0\n",
    "    for i, (x_categ, x_cont, labels) in enumerate(dataloader):\n",
    "        x_categ, x_cont, labels = x_categ.long().to(device), x_cont.float().to(device), labels.float().to(device)\n",
    "        pred = model.forward(x_categ, x_cont)\n",
    "        loss = F.binary_cross_entropy_with_logits(pred, labels)\n",
    "        loss_count += loss.item() / len(dataloader)\n",
    "        acc_count += (torch.round(nn.Sigmoid()(pred)) == labels).sum().float().item() / labels.shape[0]/len(dataloader)\n",
    "        if optim is not None:\n",
    "            loss.backward()\n",
    "            optim.step()\n",
    "    return loss_count, acc_count\n"
   ],
   "metadata": {
    "id": "ABeJgSJ7ufgO",
    "pycharm": {
     "name": "#%%\n"
    }
   },
   "execution_count": 5,
   "outputs": []
  },
  {
   "cell_type": "markdown",
   "source": [
    "# main"
   ],
   "metadata": {
    "id": "7jnkzt86MmOq",
    "pycharm": {
     "name": "#%% md\n"
    }
   }
  },
  {
   "cell_type": "code",
   "source": [
    "def main(filename):\n",
    "    path = os.path.join('/content/drive/MyDrive/HSE/NIR/', filename)\n",
    "    data_categ = pd.read_csv(os.path.join(path, 'categ.csv')).to_numpy()\n",
    "    data_cont = pd.read_csv(os.path.join(path, 'cont.csv')).to_numpy()\n",
    "    data_labels = pd.read_csv(os.path.join(path, 'labels.csv')).to_numpy()\n",
    "    # print(data_cont.shape)\n",
    "\n",
    "    X1_train, X2_train, y_train, X1_val, X2_val, y_val, X1_test, X2_test, y_test = my_train_test_split(data_categ,\n",
    "                                                                                                       data_cont,\n",
    "                                                                                                       data_labels,\n",
    "                                                                                                       test_size=0.2,\n",
    "                                                                                                       val_size=0.05,\n",
    "                                                                                                       random_state=seed)\n",
    "\n",
    "    cont_mean_std = np.array([X2_train.mean(axis=0), X2_train.std(axis=0)]).transpose(1, 0)\n",
    "    cont_mean_std = torch.Tensor(cont_mean_std)\n",
    "\n",
    "    categories = tuple(len(np.unique(data_categ[:, i])) for i in range(data_categ.shape[1]))\n",
    "\n",
    "    model = TabTransformer(\n",
    "        categories=categories,  # tuple containing the number of unique values within each category\n",
    "        num_continuous=data_cont.shape[-1],  # number of continuous values\n",
    "        dim=32,  # dimension, paper set at 32\n",
    "        dim_out=1,  # binary prediction, but could be anything\n",
    "        depth=6,  # depth, paper recommended 6\n",
    "        heads=8,  # heads, paper recommends 8\n",
    "        attn_dropout=0.1,  # post-attention dropout\n",
    "        ff_dropout=0.1,  # feed forward dropout\n",
    "        mlp_hidden_mults=(4, 2),  # relative multiples of each hidden dimension of the last mlp to logits\n",
    "        mlp_act=None,  # activation for final mlp, defaults to relu, but could be anything else (selu etc)\n",
    "        continuous_mean_std=cont_mean_std   # (optional) - normalize the continuous values before layer norm\n",
    "    )\n",
    "\n",
    "    device = torch.device('cuda' if torch.cuda.is_available() else 'cpu')\n",
    "    model.to(device)\n",
    "\n",
    "    batch_size = 2048\n",
    "    epochs = 10\n",
    "    lr = 1e-4\n",
    "    optim = Adam(model.parameters(), lr=lr)\n",
    "    loss = F.binary_cross_entropy_with_logits\n",
    "\n",
    "    dataset_train = my_dataset(X1_train, X2_train, y_train)\n",
    "    dataset_val = my_dataset(X1_val, X2_val, y_val)\n",
    "    dataset_test = my_dataset(X1_test, X2_test, y_test)\n",
    "\n",
    "    train_loss_all, val_loss_all, train_acc_all, val_acc_all = [], [], [], []\n",
    "    # training loop\n",
    "    for epoch in range(epochs):\n",
    "      \n",
    "        # train\n",
    "        dataloader_train = DataLoader(dataset_train, batch_size=batch_size)\n",
    "        train_loss, train_acc = single_pass(model, dataloader_train, loss, device, optim)\n",
    "\n",
    "        # validation\n",
    "        dataloader_val = DataLoader(dataset_val, batch_size=64)\n",
    "        with torch.no_grad():\n",
    "            val_loss, val_acc = single_pass(model, dataloader_val, loss, device)\n",
    "        \n",
    "        print(f'epoch {epoch}, train_loss={train_loss}, validation_loss={val_loss}, train_acc={train_acc}, val_acc={val_acc}')\n",
    "\n",
    "        train_loss_all.append(train_loss)\n",
    "        val_loss_all.append(val_loss)\n",
    "        train_acc_all.append(train_acc)\n",
    "        val_acc_all.append(val_acc)\n",
    "\n",
    "    # test\n",
    "    with torch.no_grad():\n",
    "        dataloader_test = DataLoader(dataset_test, batch_size=64)\n",
    "        test_loss, test_acc = single_pass(model, dataloader_test, loss, device)\n",
    "\n",
    "        \n",
    "        print(f'test_loss={test_loss}, test_acc={test_acc}')\n",
    "    return train_loss_all, val_loss_all, train_acc_all, val_acc_all, test_loss, test_acc\n"
   ],
   "metadata": {
    "id": "8h8zKXSqtid1",
    "pycharm": {
     "name": "#%%\n"
    }
   },
   "execution_count": 6,
   "outputs": []
  },
  {
   "cell_type": "code",
   "source": [
    "def plot_results(ax, train_results: list, val_results: list, test_result, label):\n",
    "    epochs = np.arange(1, len(train_results) + 1)\n",
    "    ax.plot(epochs, train_results, label='train')\n",
    "    ax.plot(epochs, val_results, label='validation')\n",
    "    ax.plot(epochs[-1], test_result,\n",
    "            marker='o', linestyle='none', label='test')\n",
    "    ax.set_xlabel('Epochs')\n",
    "    ax.set_ylabel(label)\n",
    "    ax.grid(linestyle=':')\n",
    "    ax.legend()"
   ],
   "metadata": {
    "id": "0faq8RHuywxz",
    "pycharm": {
     "name": "#%%\n"
    }
   },
   "execution_count": 7,
   "outputs": []
  },
  {
   "cell_type": "code",
   "source": [
    "# if __name__ == '__main__':\n",
    "train_loss, val_loss, train_acc, val_acc, test_loss, test_acc = main('seismic_bumps')\n"
   ],
   "metadata": {
    "id": "wbQ-Gllcu9NQ",
    "colab": {
     "base_uri": "https://localhost:8080/"
    },
    "outputId": "6f6bad40-fc7b-4c21-fb30-ac68f25fc720",
    "pycharm": {
     "name": "#%%\n"
    }
   },
   "execution_count": 8,
   "outputs": [
    {
     "output_type": "stream",
     "name": "stdout",
     "text": [
      "epoch 0, train_loss=0.7065544724464417, validation_loss=0.7041756510734558, train_acc=0.5030959752321982, val_acc=0.3645833333333333\n",
      "epoch 1, train_loss=0.6679652333259583, validation_loss=0.6616597572962443, train_acc=0.6062951496388029, val_acc=0.453125\n",
      "epoch 2, train_loss=0.6325032711029053, validation_loss=0.6248822410901388, train_acc=0.7244582043343654, val_acc=0.859375\n",
      "epoch 3, train_loss=0.5998178720474243, validation_loss=0.5909220774968464, train_acc=0.8013415892672858, val_acc=0.890625\n",
      "epoch 4, train_loss=0.5693876147270203, validation_loss=0.5610341429710388, train_acc=0.8570691434468525, val_acc=0.9270833333333333\n",
      "epoch 5, train_loss=0.5391197204589844, validation_loss=0.5285149415334066, train_acc=0.8931888544891641, val_acc=0.9427083333333333\n",
      "epoch 6, train_loss=0.5119954347610474, validation_loss=0.5005035996437073, train_acc=0.9215686274509803, val_acc=0.9479166666666665\n",
      "epoch 7, train_loss=0.4854819178581238, validation_loss=0.46790007750193274, train_acc=0.9267285861713106, val_acc=0.9479166666666665\n",
      "epoch 8, train_loss=0.4611218273639679, validation_loss=0.43969734509785974, train_acc=0.9313725490196079, val_acc=0.9479166666666665\n",
      "epoch 9, train_loss=0.43838614225387573, validation_loss=0.4172615309556325, train_acc=0.93343653250774, val_acc=0.953125\n",
      "test_loss=0.4117930299705929, test_acc=0.9357638888888888\n"
     ]
    }
   ]
  },
  {
   "cell_type": "code",
   "source": [
    "_, ax1 = plt.subplots()\n",
    "plot_results(ax1, train_loss, val_loss, test_loss, 'Loss')\n",
    "plt.show()\n",
    "_, ax2 = plt.subplots()\n",
    "plot_results(ax2, train_acc, val_acc, test_acc, 'Accuracy')\n",
    "plt.show()"
   ],
   "metadata": {
    "colab": {
     "base_uri": "https://localhost:8080/",
     "height": 541
    },
    "id": "PMTR_o0Yy4ZE",
    "outputId": "09737be0-833e-48af-c499-46de8672075f",
    "pycharm": {
     "name": "#%%\n"
    }
   },
   "execution_count": 9,
   "outputs": [
    {
     "output_type": "display_data",
     "data": {
      "text/plain": [
       "<Figure size 432x288 with 1 Axes>"
      ],
      "image/png": "[encoded data removed]"
     },
     "metadata": {
      "needs_background": "light"
     }
    },
    {
     "output_type": "display_data",
     "data": {
      "text/plain": [
       "<Figure size 432x288 with 1 Axes>"
      ],
      "image/png": "[encoded data removed]"
     },
     "metadata": {
      "needs_background": "light"
     }
    }
   ]
  },
  {
   "cell_type": "code",
   "source": [],
   "metadata": {
    "id": "-MrjlvsV9pKm",
    "pycharm": {
     "name": "#%%\n"
    }
   },
   "execution_count": 9,
   "outputs": []
  },
  {
   "cell_type": "code",
   "source": [],
   "metadata": {
    "id": "DUUd7mMiGukM",
    "pycharm": {
     "name": "#%%\n"
    }
   },
   "execution_count": 9,
   "outputs": []
  }
 ]
}