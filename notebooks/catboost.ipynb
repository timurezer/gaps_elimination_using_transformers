{
  "nbformat": 4,
  "nbformat_minor": 0,
  "metadata": {
    "colab": {
      "name": "catboost.ipynb",
      "provenance": []
    },
    "kernelspec": {
      "name": "python3",
      "display_name": "Python 3"
    },
    "language_info": {
      "name": "python"
    },
    "accelerator": "GPU",
    "gpuClass": "standard"
  },
  "cells": [
    {
      "cell_type": "code",
      "source": [
        "import os\n",
        "import sys\n",
        "import numpy as np\n",
        "import pandas as pd\n",
        "import matplotlib.pyplot as plt\n",
        "from sklearn.metrics import roc_auc_score, accuracy_score, precision_score, recall_score, f1_score\n",
        "from sklearn.model_selection import train_test_split\n"
      ],
      "metadata": {
        "id": "jrkgVMt-FQ4U"
      },
      "execution_count": 1,
      "outputs": []
    },
    {
      "cell_type": "code",
      "source": [
        "!pip install catboost\n",
        "from catboost import CatBoostClassifier"
      ],
      "metadata": {
        "colab": {
          "base_uri": "https://localhost:8080/"
        },
        "id": "jmLaN2NtFSpd",
        "outputId": "42fcbcfe-13cb-4588-8785-580a99db4dbd"
      },
      "execution_count": 2,
      "outputs": [
        {
          "output_type": "stream",
          "name": "stdout",
          "text": [
            "Looking in indexes: https://pypi.org/simple, https://us-python.pkg.dev/colab-wheels/public/simple/\n",
            "Collecting catboost\n",
            "  Downloading catboost-1.0.6-cp37-none-manylinux1_x86_64.whl (76.6 MB)\n",
            "\u001b[K     |████████████████████████████████| 76.6 MB 1.3 MB/s \n",
            "\u001b[?25hRequirement already satisfied: matplotlib in /usr/local/lib/python3.7/dist-packages (from catboost) (3.2.2)\n",
            "Requirement already satisfied: pandas>=0.24.0 in /usr/local/lib/python3.7/dist-packages (from catboost) (1.3.5)\n",
            "Requirement already satisfied: six in /usr/local/lib/python3.7/dist-packages (from catboost) (1.15.0)\n",
            "Requirement already satisfied: numpy>=1.16.0 in /usr/local/lib/python3.7/dist-packages (from catboost) (1.21.6)\n",
            "Requirement already satisfied: graphviz in /usr/local/lib/python3.7/dist-packages (from catboost) (0.10.1)\n",
            "Requirement already satisfied: scipy in /usr/local/lib/python3.7/dist-packages (from catboost) (1.4.1)\n",
            "Requirement already satisfied: plotly in /usr/local/lib/python3.7/dist-packages (from catboost) (5.5.0)\n",
            "Requirement already satisfied: python-dateutil>=2.7.3 in /usr/local/lib/python3.7/dist-packages (from pandas>=0.24.0->catboost) (2.8.2)\n",
            "Requirement already satisfied: pytz>=2017.3 in /usr/local/lib/python3.7/dist-packages (from pandas>=0.24.0->catboost) (2022.1)\n",
            "Requirement already satisfied: pyparsing!=2.0.4,!=2.1.2,!=2.1.6,>=2.0.1 in /usr/local/lib/python3.7/dist-packages (from matplotlib->catboost) (3.0.9)\n",
            "Requirement already satisfied: kiwisolver>=1.0.1 in /usr/local/lib/python3.7/dist-packages (from matplotlib->catboost) (1.4.2)\n",
            "Requirement already satisfied: cycler>=0.10 in /usr/local/lib/python3.7/dist-packages (from matplotlib->catboost) (0.11.0)\n",
            "Requirement already satisfied: typing-extensions in /usr/local/lib/python3.7/dist-packages (from kiwisolver>=1.0.1->matplotlib->catboost) (4.2.0)\n",
            "Requirement already satisfied: tenacity>=6.2.0 in /usr/local/lib/python3.7/dist-packages (from plotly->catboost) (8.0.1)\n",
            "Installing collected packages: catboost\n",
            "Successfully installed catboost-1.0.6\n"
          ]
        }
      ]
    },
    {
      "cell_type": "code",
      "execution_count": 29,
      "metadata": {
        "id": "m1VMT2TMFPOD"
      },
      "outputs": [],
      "source": [
        "def main(filename, mode='ordinary', seed=42, nan_mode='Min', eval='val'):\n",
        "    path = ''\n",
        "    if mode == 'ordinary':\n",
        "        path = os.path.join('/content/drive/MyDrive/HSE/NIR/data/nan_as_categ', filename)\n",
        "    elif mode == 'naive':\n",
        "        path = os.path.join('/content/drive/MyDrive/HSE/NIR/data/recovered', f'{filename}_naive')\n",
        "    elif mode == 'mlm_single':\n",
        "        path = os.path.join('/content/drive/MyDrive/HSE/NIR/data/recovered', f'{filename}_mlm_single')\n",
        "    elif mode == 'mlm_different':\n",
        "        path = os.path.join('/content/drive/MyDrive/HSE/NIR/data/recovered', f'{filename}_mlm_different')\n",
        "\n",
        "    data_categ = pd.read_csv(os.path.join(path, 'categ.csv')).to_numpy()\n",
        "    data_cont = pd.read_csv(os.path.join(path, 'cont.csv')).to_numpy()\n",
        "    data = np.hstack((data_categ, data_cont))\n",
        "\n",
        "    labels = pd.read_csv(os.path.join(path, 'labels.csv')).to_numpy()\n",
        "\n",
        "    X_train, X_test, y_train, y_test = train_test_split(data, labels, test_size=0.25, random_state=seed)\n",
        "    X_val, X_test, y_val, y_test = train_test_split(X_test, y_test, test_size=0.8, random_state=42)\n",
        "\n",
        "    clf = CatBoostClassifier(\n",
        "        custom_loss=['Accuracy'],\n",
        "        random_seed=seed,\n",
        "        logging_level='Silent',\n",
        "        loss_function='Logloss',    # NLLL\n",
        "        nan_mode=nan_mode,\n",
        "        l2_leaf_reg=0.01,\n",
        "        task_type=\"GPU\"\n",
        "    )\n",
        "    clf.fit(X_train, y_train)\n",
        "\n",
        "    if eval == 'val':\n",
        "      y_val_pred = clf.predict(X_val)\n",
        "      print('acc:', accuracy_score(y_val, y_val_pred), 'pres:', precision_score(y_val, y_val_pred), 'rec:',  recall_score(y_val, y_val_pred))\n",
        "      print('AUC', roc_auc_score(y_val, y_val_pred))\n",
        "      \n",
        "    else:\n",
        "        y_test_pred = clf.predict(X_test)\n",
        "        print(seed)\n",
        "        acc = accuracy_score(y_test, y_test_pred)\n",
        "        pres = precision_score(y_test, y_test_pred)\n",
        "        rec = recall_score(y_test, y_test_pred)\n",
        "        auc = roc_auc_score(y_test, y_test_pred)\n",
        "        print('acc:', acc, 'pres:', pres, 'rec:',  rec, 'AUC', auc)\n",
        "              \n",
        "        return acc, auc"
      ]
    },
    {
      "cell_type": "code",
      "source": [
        "dataset='adult'"
      ],
      "metadata": {
        "id": "sX_T8FcWGLb6"
      },
      "execution_count": 30,
      "outputs": []
    },
    {
      "cell_type": "code",
      "source": [
        "seeds = [42, 10, 100, 1000, 10000]"
      ],
      "metadata": {
        "id": "VBeIHBouKEjz"
      },
      "execution_count": 31,
      "outputs": []
    },
    {
      "cell_type": "markdown",
      "source": [
        "# MLM_SINGLE"
      ],
      "metadata": {
        "id": "lmvuV7P6JIBQ"
      }
    },
    {
      "cell_type": "code",
      "source": [
        "acc_all, auc_all = [], []\n",
        "mode='mlm_single'\n",
        "\n",
        "for seed in seeds:\n",
        "    acc, auc = main(dataset, mode=mode, seed=seed, eval='test')\n",
        "    acc_all.append(acc)\n",
        "    auc_all.append(auc)\n"
      ],
      "metadata": {
        "colab": {
          "base_uri": "https://localhost:8080/"
        },
        "id": "bem9XXFWIfOK",
        "outputId": "2b48b160-f767-4ea5-9d7f-4dcaad714653"
      },
      "execution_count": 37,
      "outputs": [
        {
          "output_type": "stream",
          "name": "stdout",
          "text": [
            "42\n",
            "acc: 0.8586344559320299 pres: 0.7373788883222846 rec: 0.6254325259515571 AUC 0.7781849501153789\n",
            "10\n",
            "acc: 0.8576108097041663 pres: 0.7414787624541164 rec: 0.6115916955017301 AUC 0.7727396589349874\n",
            "100\n",
            "acc: 0.858941549800389 pres: 0.7505165289256198 rec: 0.618824531516184 AUC 0.7768694817667162\n",
            "1000\n",
            "acc: 0.8567918927218753 pres: 0.7480600103466115 rec: 0.6132315521628499 AUC 0.7737592115152395\n",
            "10000\n",
            "acc: 0.8477838059166752 pres: 0.7297297297297297 rec: 0.5849617672047579 AUC 0.7580911330966472\n"
          ]
        }
      ]
    },
    {
      "cell_type": "code",
      "source": [
        "print('acc', np.mean(acc_all), np.std(acc_all))\n",
        "print('auc', np.mean(auc_all), np.std(auc_all))"
      ],
      "metadata": {
        "colab": {
          "base_uri": "https://localhost:8080/"
        },
        "id": "9SRUNCBoLaPY",
        "outputId": "998f2d20-5c0b-4e20-9a32-7a41efe4d028"
      },
      "execution_count": 38,
      "outputs": [
        {
          "output_type": "stream",
          "name": "stdout",
          "text": [
            "acc 0.8559525028150272 0.004154742845807191\n",
            "auc 0.7719288870857939 0.007197759017970986\n"
          ]
        }
      ]
    },
    {
      "cell_type": "markdown",
      "source": [
        "# MLM_DIFFERENT"
      ],
      "metadata": {
        "id": "ilrT1zEyL5e6"
      }
    },
    {
      "cell_type": "code",
      "source": [
        "acc_all, auc_all = [], []\n",
        "mode='mlm_different'\n",
        "\n",
        "for seed in seeds:\n",
        "    acc, auc = main(dataset, mode=mode, seed=seed, eval='test')\n",
        "    acc_all.append(acc)\n",
        "    auc_all.append(auc)"
      ],
      "metadata": {
        "colab": {
          "base_uri": "https://localhost:8080/"
        },
        "id": "kgYu3rIVL7kh",
        "outputId": "e8905d78-0629-475d-cee4-5c86481fa4a4"
      },
      "execution_count": 39,
      "outputs": [
        {
          "output_type": "stream",
          "name": "stdout",
          "text": [
            "42\n",
            "acc: 0.8565871634763026 pres: 0.7308667004561581 rec: 0.6237024221453287 AUC 0.7762470807253397\n",
            "10\n",
            "acc: 0.8578155389497389 pres: 0.7417496071241487 rec: 0.6124567474048442 AUC 0.7731721848865444\n",
            "100\n",
            "acc: 0.8591462790459617 pres: 0.7523364485981309 rec: 0.6171209540034072 AUC 0.7764219511965562\n",
            "1000\n",
            "acc: 0.8569966219674481 pres: 0.7496103896103896 rec: 0.6119592875318066 AUC 0.7734604155915679\n",
            "10000\n",
            "acc: 0.8483979936533934 pres: 0.7318109399893786 rec: 0.5853865760407817 AUC 0.7586406919313821\n"
          ]
        }
      ]
    },
    {
      "cell_type": "code",
      "source": [
        "print('acc', np.mean(acc_all), np.std(acc_all))\n",
        "print('auc', np.mean(auc_all), np.std(auc_all))"
      ],
      "metadata": {
        "colab": {
          "base_uri": "https://localhost:8080/"
        },
        "id": "drfLc2a5L9W7",
        "outputId": "4e476531-d912-44c6-c0db-17de61fc0e93"
      },
      "execution_count": 40,
      "outputs": [
        {
          "output_type": "stream",
          "name": "stdout",
          "text": [
            "acc 0.855788719418569 0.0037973825954301372\n",
            "auc 0.7715884648662781 0.006613962268132723\n"
          ]
        }
      ]
    },
    {
      "cell_type": "markdown",
      "source": [
        "# NAIVE"
      ],
      "metadata": {
        "id": "6jLWVk_xMNDe"
      }
    },
    {
      "cell_type": "code",
      "source": [
        "acc_all, auc_all = [], []\n",
        "mode='naive'\n",
        "\n",
        "for seed in seeds:\n",
        "    acc, auc = main(dataset, mode=mode, seed=seed, eval='test')\n",
        "    acc_all.append(acc)\n",
        "    auc_all.append(auc)"
      ],
      "metadata": {
        "colab": {
          "base_uri": "https://localhost:8080/"
        },
        "id": "C6BZg2VwMAVp",
        "outputId": "7bcb4424-17f2-4379-863d-01122a83def2"
      },
      "execution_count": 41,
      "outputs": [
        {
          "output_type": "stream",
          "name": "stdout",
          "text": [
            "42\n",
            "acc: 0.8566895280990889 pres: 0.7338461538461538 rec: 0.6189446366782007 AUC 0.7746728011069695\n",
            "10\n",
            "acc: 0.8572013512130208 pres: 0.7411888479747502 rec: 0.6094290657439446 AUC 0.7717253951490274\n",
            "100\n",
            "acc: 0.8586344559320299 pres: 0.7488419969119917 rec: 0.6196763202725724 AUC 0.7769584943230534\n",
            "1000\n",
            "acc: 0.8582249974408844 pres: 0.7509025270758123 rec: 0.6174724342663274 AUC 0.7761495216804583\n",
            "10000\n",
            "acc: 0.8486027228989661 pres: 0.7311146328578975 rec: 0.5879354290569244 AUC 0.7596453949060752\n"
          ]
        }
      ]
    },
    {
      "cell_type": "code",
      "source": [
        "print('acc', np.mean(acc_all), np.std(acc_all))\n",
        "print('auc', np.mean(auc_all), np.std(auc_all))"
      ],
      "metadata": {
        "colab": {
          "base_uri": "https://localhost:8080/"
        },
        "id": "TEOt4wNbMPVs",
        "outputId": "2efd1efe-0a3d-4eab-e59d-40031bdbcb62"
      },
      "execution_count": 42,
      "outputs": [
        {
          "output_type": "stream",
          "name": "stdout",
          "text": [
            "acc 0.8558706111167981 0.0036998828765302497\n",
            "auc 0.7718303214331168 0.006348492461308842\n"
          ]
        }
      ]
    },
    {
      "cell_type": "markdown",
      "source": [
        "# ORDINARY"
      ],
      "metadata": {
        "id": "hk9b__IOMP_C"
      }
    },
    {
      "cell_type": "code",
      "source": [
        "acc_all, auc_all = [], []\n",
        "mode='ordinary'\n",
        "\n",
        "for seed in seeds:\n",
        "    acc, auc = main(dataset, mode=mode, seed=seed, eval='test')\n",
        "    acc_all.append(acc)\n",
        "    auc_all.append(auc)"
      ],
      "metadata": {
        "colab": {
          "base_uri": "https://localhost:8080/"
        },
        "id": "-scaT0rVMSof",
        "outputId": "a7a03473-aa85-4658-b8fe-fe1752718051"
      },
      "execution_count": 43,
      "outputs": [
        {
          "output_type": "stream",
          "name": "stdout",
          "text": [
            "42\n",
            "acc: 0.8500358276179752 pres: 0.7550223214285714 rec: 0.5687263556116016 AUC 0.7546608773998468\n",
            "10\n",
            "acc: 0.8578155389497389 pres: 0.7526826775677057 rec: 0.6194280908326325 AUC 0.7769715207241231\n",
            "100\n",
            "acc: 0.8577131743269526 pres: 0.7617787188988883 rec: 0.6048759983186213 AUC 0.7719914497682416\n",
            "1000\n",
            "acc: 0.8529020370559934 pres: 0.7465535524920467 rec: 0.5948457963667089 AUC 0.7651343275267751\n",
            "10000\n",
            "acc: 0.8568942573446617 pres: 0.7533368926855313 rec: 0.6011930123561994 AUC 0.7694728198401855\n"
          ]
        }
      ]
    },
    {
      "cell_type": "code",
      "source": [
        "print('acc', np.mean(acc_all), np.std(acc_all))\n",
        "print('auc', np.mean(auc_all), np.std(auc_all))"
      ],
      "metadata": {
        "colab": {
          "base_uri": "https://localhost:8080/"
        },
        "id": "vk0HWXOfMUW8",
        "outputId": "489861f7-f4b8-46c2-e61f-18d3f398c4cc"
      },
      "execution_count": 44,
      "outputs": [
        {
          "output_type": "stream",
          "name": "stdout",
          "text": [
            "acc 0.8550721670590644 0.0030950024531346877\n",
            "auc 0.7676461990518344 0.007538003031951018\n"
          ]
        }
      ]
    }
  ]
}